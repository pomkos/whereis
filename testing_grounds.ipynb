{
 "cells": [
  {
   "cell_type": "code",
   "execution_count": 3,
   "metadata": {},
   "outputs": [],
   "source": [
    "import sqlalchemy as sq\n",
    "import pandas as pd\n",
    "import numpy as np"
   ]
  },
  {
   "cell_type": "code",
   "execution_count": 4,
   "metadata": {},
   "outputs": [],
   "source": [
    "engine = sq.create_engine(\"sqlite:///data/find_me.db\")\n",
    "cnx = engine.connect()"
   ]
  },
  {
   "cell_type": "code",
   "execution_count": 10,
   "metadata": {},
   "outputs": [],
   "source": [
    "meta = sq.MetaData()\n",
    "meta.reflect(bind=engine)"
   ]
  },
  {
   "cell_type": "code",
   "execution_count": 16,
   "metadata": {},
   "outputs": [
    {
     "data": {
      "text/plain": [
       "dict_keys(['airline_info', 'location', 'ticket_info'])"
      ]
     },
     "execution_count": 16,
     "metadata": {},
     "output_type": "execute_result"
    }
   ],
   "source": [
    "meta.tables.keys()"
   ]
  },
  {
   "cell_type": "code",
   "execution_count": 19,
   "metadata": {},
   "outputs": [
    {
     "data": {
      "text/html": [
       "<div>\n",
       "<style scoped>\n",
       "    .dataframe tbody tr th:only-of-type {\n",
       "        vertical-align: middle;\n",
       "    }\n",
       "\n",
       "    .dataframe tbody tr th {\n",
       "        vertical-align: top;\n",
       "    }\n",
       "\n",
       "    .dataframe thead th {\n",
       "        text-align: right;\n",
       "    }\n",
       "</style>\n",
       "<table border=\"1\" class=\"dataframe\">\n",
       "  <thead>\n",
       "    <tr style=\"text-align: right;\">\n",
       "      <th></th>\n",
       "      <th>Airline</th>\n",
       "      <th>Country</th>\n",
       "      <th>Call Sign</th>\n",
       "      <th>IATA</th>\n",
       "      <th>ICAO</th>\n",
       "    </tr>\n",
       "  </thead>\n",
       "  <tbody>\n",
       "    <tr>\n",
       "      <th>203</th>\n",
       "      <td>Spirit</td>\n",
       "      <td>USA</td>\n",
       "      <td>None</td>\n",
       "      <td>NK</td>\n",
       "      <td>NKS</td>\n",
       "    </tr>\n",
       "  </tbody>\n",
       "</table>\n",
       "</div>"
      ],
      "text/plain": [
       "    Airline Country Call Sign IATA ICAO\n",
       "203  Spirit     USA      None   NK  NKS"
      ]
     },
     "execution_count": 19,
     "metadata": {},
     "output_type": "execute_result"
    }
   ],
   "source": [
    "df = pd.read_sql('airline_info',con=cnx)\n",
    "df[df['Airline'] == 'Spirit']"
   ]
  },
  {
   "cell_type": "markdown",
   "metadata": {},
   "source": [
    "## Airline Data"
   ]
  },
  {
   "cell_type": "markdown",
   "metadata": {},
   "source": [
    "[Source](https://aviationstack.com/documentation)"
   ]
  },
  {
   "cell_type": "code",
   "execution_count": 71,
   "metadata": {},
   "outputs": [],
   "source": [
    "url = 'http://api.aviationstack.com/v1/airlines'"
   ]
  },
  {
   "cell_type": "code",
   "execution_count": 72,
   "metadata": {},
   "outputs": [],
   "source": [
    "params = {\n",
    "    'access_key':api_access_key,\n",
    "}"
   ]
  },
  {
   "cell_type": "code",
   "execution_count": 73,
   "metadata": {},
   "outputs": [
    {
     "data": {
      "text/plain": [
       "<Response [200]>"
      ]
     },
     "execution_count": 73,
     "metadata": {},
     "output_type": "execute_result"
    }
   ],
   "source": [
    "response = r.get(url = url, params = params)\n",
    "response"
   ]
  },
  {
   "cell_type": "code",
   "execution_count": 95,
   "metadata": {},
   "outputs": [
    {
     "data": {
      "text/plain": [
       "['fleet_average_age',\n",
       " 'callsign',\n",
       " 'hub_code',\n",
       " 'iata_code',\n",
       " 'icao_code',\n",
       " 'country_iso2',\n",
       " 'date_founded',\n",
       " 'iata_prefix_accounting',\n",
       " 'airline_name',\n",
       " 'country_name',\n",
       " 'fleet_size',\n",
       " 'status',\n",
       " 'type']"
      ]
     },
     "execution_count": 95,
     "metadata": {},
     "output_type": "execute_result"
    }
   ],
   "source": [
    "list(response.json()['data'][1].keys())"
   ]
  },
  {
   "cell_type": "code",
   "execution_count": 92,
   "metadata": {},
   "outputs": [
    {
     "name": "stdout",
     "output_type": "stream",
     "text": [
      "United Airlines  =  UA\n"
     ]
    }
   ],
   "source": [
    "for i in range(100):\n",
    "    data = response.json()['data'][i]\n",
    "    if 'United' in data['airline_name']:\n",
    "        print(data['airline_name'],' = ',data['iata_code'])"
   ]
  },
  {
   "cell_type": "markdown",
   "metadata": {},
   "source": [
    "## Flight Data"
   ]
  },
  {
   "cell_type": "code",
   "execution_count": 107,
   "metadata": {},
   "outputs": [],
   "source": [
    "url = 'http://api.aviationstack.com/v1/flights'"
   ]
  },
  {
   "cell_type": "code",
   "execution_count": 4,
   "metadata": {},
   "outputs": [
    {
     "ename": "NameError",
     "evalue": "name 'api_access_key' is not defined",
     "output_type": "error",
     "traceback": [
      "\u001b[0;31m---------------------------------------------------------------------------\u001b[0m",
      "\u001b[0;31mNameError\u001b[0m                                 Traceback (most recent call last)",
      "\u001b[0;32m<ipython-input-4-5034052ea152>\u001b[0m in \u001b[0;36m<module>\u001b[0;34m\u001b[0m\n\u001b[1;32m      1\u001b[0m params = {\n\u001b[0;32m----> 2\u001b[0;31m     \u001b[0;34m'access_key'\u001b[0m\u001b[0;34m:\u001b[0m\u001b[0mapi_access_key\u001b[0m\u001b[0;34m,\u001b[0m\u001b[0;34m\u001b[0m\u001b[0;34m\u001b[0m\u001b[0m\n\u001b[0m\u001b[1;32m      3\u001b[0m     \u001b[0;34m'airline_iata'\u001b[0m\u001b[0;34m:\u001b[0m \u001b[0;34m'UA'\u001b[0m\u001b[0;34m,\u001b[0m\u001b[0;34m\u001b[0m\u001b[0;34m\u001b[0m\u001b[0m\n\u001b[1;32m      4\u001b[0m     \u001b[0;34m'flight_number'\u001b[0m\u001b[0;34m:\u001b[0m\u001b[0;34m'2023'\u001b[0m\u001b[0;34m,\u001b[0m\u001b[0;34m\u001b[0m\u001b[0;34m\u001b[0m\u001b[0m\n\u001b[1;32m      5\u001b[0m     \u001b[0;34m'dep_iata'\u001b[0m\u001b[0;34m:\u001b[0m\u001b[0;34m'ORD'\u001b[0m\u001b[0;34m,\u001b[0m\u001b[0;34m\u001b[0m\u001b[0;34m\u001b[0m\u001b[0m\n",
      "\u001b[0;31mNameError\u001b[0m: name 'api_access_key' is not defined"
     ]
    }
   ],
   "source": [
    "params = {\n",
    "    'access_key':api_access_key,\n",
    "    'airline_iata': 'UA',\n",
    "    'flight_number':'2023',\n",
    "    'dep_iata':'ORD',\n",
    "    'arr_icao':'RSW'\n",
    "}"
   ]
  },
  {
   "cell_type": "code",
   "execution_count": 118,
   "metadata": {},
   "outputs": [
    {
     "data": {
      "text/plain": [
       "<Response [200]>"
      ]
     },
     "execution_count": 118,
     "metadata": {},
     "output_type": "execute_result"
    }
   ],
   "source": [
    "response = r.get(url = url, params = params)\n",
    "response"
   ]
  },
  {
   "cell_type": "code",
   "execution_count": 120,
   "metadata": {},
   "outputs": [
    {
     "data": {
      "text/plain": [
       "{'pagination': {'limit': 100, 'offset': 0, 'count': 0, 'total': 0}, 'data': []}"
      ]
     },
     "execution_count": 120,
     "metadata": {},
     "output_type": "execute_result"
    }
   ],
   "source": [
    "response.json()"
   ]
  },
  {
   "cell_type": "markdown",
   "metadata": {},
   "source": [
    "# Databases"
   ]
  },
  {
   "cell_type": "code",
   "execution_count": 1,
   "metadata": {},
   "outputs": [
    {
     "ename": "NameError",
     "evalue": "name 'sq' is not defined",
     "output_type": "error",
     "traceback": [
      "\u001b[0;31m---------------------------------------------------------------------------\u001b[0m",
      "\u001b[0;31mNameError\u001b[0m                                 Traceback (most recent call last)",
      "\u001b[0;32m<ipython-input-1-91a67a05a518>\u001b[0m in \u001b[0;36m<module>\u001b[0;34m\u001b[0m\n\u001b[0;32m----> 1\u001b[0;31m \u001b[0mengine\u001b[0m \u001b[0;34m=\u001b[0m \u001b[0msq\u001b[0m\u001b[0;34m.\u001b[0m\u001b[0mcreate_engine\u001b[0m\u001b[0;34m(\u001b[0m\u001b[0;34m'sqlite:///data/find_me.db'\u001b[0m\u001b[0;34m)\u001b[0m\u001b[0;34m\u001b[0m\u001b[0;34m\u001b[0m\u001b[0m\n\u001b[0m\u001b[1;32m      2\u001b[0m \u001b[0mcnx\u001b[0m \u001b[0;34m=\u001b[0m \u001b[0mengine\u001b[0m\u001b[0;34m.\u001b[0m\u001b[0mconnect\u001b[0m\u001b[0;34m(\u001b[0m\u001b[0;34m)\u001b[0m\u001b[0;34m\u001b[0m\u001b[0;34m\u001b[0m\u001b[0m\n",
      "\u001b[0;31mNameError\u001b[0m: name 'sq' is not defined"
     ]
    }
   ],
   "source": [
    "engine = sq.create_engine('sqlite:///data/find_me.db')\n",
    "cnx = engine.connect()"
   ]
  },
  {
   "cell_type": "code",
   "execution_count": 4,
   "metadata": {},
   "outputs": [],
   "source": [
    "df = pd.DataFrame({\n",
    "    'current_loc':['current city'],\n",
    "    'current_date':[dt.datetime.now().date()],\n",
    "    'future_loc':['new city'],\n",
    "    'future_date':['April 1; April 28'],\n",
    "    'confirm_code':['unknown'],\n",
    "    'message':['unknown']\n",
    "})"
   ]
  },
  {
   "cell_type": "code",
   "execution_count": 14,
   "metadata": {},
   "outputs": [],
   "source": [
    "# df.to_sql('location',con=cnx,if_exists='replace',index=False)"
   ]
  },
  {
   "cell_type": "code",
   "execution_count": 13,
   "metadata": {},
   "outputs": [
    {
     "data": {
      "text/html": [
       "<div>\n",
       "<style scoped>\n",
       "    .dataframe tbody tr th:only-of-type {\n",
       "        vertical-align: middle;\n",
       "    }\n",
       "\n",
       "    .dataframe tbody tr th {\n",
       "        vertical-align: top;\n",
       "    }\n",
       "\n",
       "    .dataframe thead th {\n",
       "        text-align: right;\n",
       "    }\n",
       "</style>\n",
       "<table border=\"1\" class=\"dataframe\">\n",
       "  <thead>\n",
       "    <tr style=\"text-align: right;\">\n",
       "      <th></th>\n",
       "      <th>current_loc</th>\n",
       "      <th>current_date</th>\n",
       "      <th>future_loc</th>\n",
       "      <th>future_date</th>\n",
       "      <th>confirm_code</th>\n",
       "      <th>message</th>\n",
       "    </tr>\n",
       "  </thead>\n",
       "  <tbody>\n",
       "    <tr>\n",
       "      <th>0</th>\n",
       "      <td>current city</td>\n",
       "      <td>2021-03-07</td>\n",
       "      <td>new city</td>\n",
       "      <td>April 1; April 28</td>\n",
       "      <td>unknown</td>\n",
       "      <td>unknown</td>\n",
       "    </tr>\n",
       "  </tbody>\n",
       "</table>\n",
       "</div>"
      ],
      "text/plain": [
       "    current_loc current_date future_loc        future_date confirm_code  \\\n",
       "0  current city   2021-03-07   new city  April 1; April 28      unknown   \n",
       "\n",
       "   message  \n",
       "0  unknown  "
      ]
     },
     "execution_count": 13,
     "metadata": {},
     "output_type": "execute_result"
    }
   ],
   "source": [
    "pd.read_sql('location',cnx)"
   ]
  },
  {
   "cell_type": "code",
   "execution_count": 7,
   "metadata": {},
   "outputs": [],
   "source": [
    "new_df = pd.DataFrame({\n",
    "    'plane_code':['unknown'],\n",
    "    'flight_num':['unknown'],\n",
    "    'year_depart':['unknown'],\n",
    "    'month_depart':['unknown'],\n",
    "    'day_depart':['unknown'],\n",
    "    'confirm_code':['unknown'],\n",
    "    'date_depart':[dt.datetime.strptime('02-27-2021 23:59','%m-%d-%Y %H:%M')],\n",
    "    'date_added':[dt.datetime.now()]\n",
    "})"
   ]
  },
  {
   "cell_type": "code",
   "execution_count": 15,
   "metadata": {},
   "outputs": [],
   "source": [
    "# new_df.to_sql('ticket_info',con=cnx,if_exists='replace',index=False)"
   ]
  },
  {
   "cell_type": "code",
   "execution_count": 9,
   "metadata": {},
   "outputs": [
    {
     "data": {
      "text/html": [
       "<div>\n",
       "<style scoped>\n",
       "    .dataframe tbody tr th:only-of-type {\n",
       "        vertical-align: middle;\n",
       "    }\n",
       "\n",
       "    .dataframe tbody tr th {\n",
       "        vertical-align: top;\n",
       "    }\n",
       "\n",
       "    .dataframe thead th {\n",
       "        text-align: right;\n",
       "    }\n",
       "</style>\n",
       "<table border=\"1\" class=\"dataframe\">\n",
       "  <thead>\n",
       "    <tr style=\"text-align: right;\">\n",
       "      <th></th>\n",
       "      <th>plane_code</th>\n",
       "      <th>flight_num</th>\n",
       "      <th>year_depart</th>\n",
       "      <th>month_depart</th>\n",
       "      <th>day_depart</th>\n",
       "      <th>confirm_code</th>\n",
       "      <th>date_depart</th>\n",
       "      <th>date_added</th>\n",
       "    </tr>\n",
       "  </thead>\n",
       "  <tbody>\n",
       "    <tr>\n",
       "      <th>0</th>\n",
       "      <td>unknown</td>\n",
       "      <td>unknown</td>\n",
       "      <td>unknown</td>\n",
       "      <td>unknown</td>\n",
       "      <td>unknown</td>\n",
       "      <td>unknown</td>\n",
       "      <td>2021-02-27 23:59:00</td>\n",
       "      <td>2021-03-07 15:06:19.741900</td>\n",
       "    </tr>\n",
       "  </tbody>\n",
       "</table>\n",
       "</div>"
      ],
      "text/plain": [
       "  plane_code flight_num year_depart month_depart day_depart confirm_code  \\\n",
       "0    unknown    unknown     unknown      unknown    unknown      unknown   \n",
       "\n",
       "          date_depart                 date_added  \n",
       "0 2021-02-27 23:59:00 2021-03-07 15:06:19.741900  "
      ]
     },
     "execution_count": 9,
     "metadata": {},
     "output_type": "execute_result"
    }
   ],
   "source": [
    "df = pd.read_sql('ticket_info', con=cnx)\n",
    "df"
   ]
  },
  {
   "cell_type": "code",
   "execution_count": 10,
   "metadata": {},
   "outputs": [
    {
     "data": {
      "text/html": [
       "<div>\n",
       "<style scoped>\n",
       "    .dataframe tbody tr th:only-of-type {\n",
       "        vertical-align: middle;\n",
       "    }\n",
       "\n",
       "    .dataframe tbody tr th {\n",
       "        vertical-align: top;\n",
       "    }\n",
       "\n",
       "    .dataframe thead th {\n",
       "        text-align: right;\n",
       "    }\n",
       "</style>\n",
       "<table border=\"1\" class=\"dataframe\">\n",
       "  <thead>\n",
       "    <tr style=\"text-align: right;\">\n",
       "      <th></th>\n",
       "      <th>plane_code</th>\n",
       "      <th>flight_num</th>\n",
       "      <th>year_depart</th>\n",
       "      <th>month_depart</th>\n",
       "      <th>day_depart</th>\n",
       "      <th>confirm_code</th>\n",
       "      <th>date_depart</th>\n",
       "      <th>date_added</th>\n",
       "    </tr>\n",
       "  </thead>\n",
       "  <tbody>\n",
       "  </tbody>\n",
       "</table>\n",
       "</div>"
      ],
      "text/plain": [
       "Empty DataFrame\n",
       "Columns: [plane_code, flight_num, year_depart, month_depart, day_depart, confirm_code, date_depart, date_added]\n",
       "Index: []"
      ]
     },
     "execution_count": 10,
     "metadata": {},
     "output_type": "execute_result"
    }
   ],
   "source": [
    "df[df['date_depart'] >= dt.datetime.now()]"
   ]
  },
  {
   "cell_type": "code",
   "execution_count": 11,
   "metadata": {},
   "outputs": [
    {
     "data": {
      "text/html": [
       "<div>\n",
       "<style scoped>\n",
       "    .dataframe tbody tr th:only-of-type {\n",
       "        vertical-align: middle;\n",
       "    }\n",
       "\n",
       "    .dataframe tbody tr th {\n",
       "        vertical-align: top;\n",
       "    }\n",
       "\n",
       "    .dataframe thead th {\n",
       "        text-align: right;\n",
       "    }\n",
       "</style>\n",
       "<table border=\"1\" class=\"dataframe\">\n",
       "  <thead>\n",
       "    <tr style=\"text-align: right;\">\n",
       "      <th></th>\n",
       "      <th>Airline</th>\n",
       "      <th>Country</th>\n",
       "      <th>Call Sign</th>\n",
       "      <th>IATA</th>\n",
       "      <th>ICAO</th>\n",
       "    </tr>\n",
       "  </thead>\n",
       "  <tbody>\n",
       "    <tr>\n",
       "      <th>0</th>\n",
       "      <td>Alaska Airlines</td>\n",
       "      <td>USA</td>\n",
       "      <td>None</td>\n",
       "      <td>AS</td>\n",
       "      <td>ASA</td>\n",
       "    </tr>\n",
       "    <tr>\n",
       "      <th>1</th>\n",
       "      <td>American Airlines</td>\n",
       "      <td>USA</td>\n",
       "      <td>None</td>\n",
       "      <td>AA</td>\n",
       "      <td>AAL</td>\n",
       "    </tr>\n",
       "    <tr>\n",
       "      <th>2</th>\n",
       "      <td>Air Canada</td>\n",
       "      <td>Canada</td>\n",
       "      <td>None</td>\n",
       "      <td>AC</td>\n",
       "      <td>ACA</td>\n",
       "    </tr>\n",
       "    <tr>\n",
       "      <th>3</th>\n",
       "      <td>Aeromexico</td>\n",
       "      <td>Mexico</td>\n",
       "      <td>None</td>\n",
       "      <td>AM</td>\n",
       "      <td>AMX</td>\n",
       "    </tr>\n",
       "    <tr>\n",
       "      <th>4</th>\n",
       "      <td>Continental Airlines</td>\n",
       "      <td>USA</td>\n",
       "      <td>None</td>\n",
       "      <td>CO</td>\n",
       "      <td>COA</td>\n",
       "    </tr>\n",
       "    <tr>\n",
       "      <th>...</th>\n",
       "      <td>...</td>\n",
       "      <td>...</td>\n",
       "      <td>...</td>\n",
       "      <td>...</td>\n",
       "      <td>...</td>\n",
       "    </tr>\n",
       "    <tr>\n",
       "      <th>198</th>\n",
       "      <td>Viva Air Colombia</td>\n",
       "      <td>None</td>\n",
       "      <td>VIVACOLOMBIA</td>\n",
       "      <td>None</td>\n",
       "      <td>None</td>\n",
       "    </tr>\n",
       "    <tr>\n",
       "      <th>199</th>\n",
       "      <td>VivaAerobús</td>\n",
       "      <td>None</td>\n",
       "      <td>AEROENLACES</td>\n",
       "      <td>None</td>\n",
       "      <td>None</td>\n",
       "    </tr>\n",
       "    <tr>\n",
       "      <th>200</th>\n",
       "      <td>WestJet</td>\n",
       "      <td>None</td>\n",
       "      <td>WESTJET</td>\n",
       "      <td>None</td>\n",
       "      <td>None</td>\n",
       "    </tr>\n",
       "    <tr>\n",
       "      <th>201</th>\n",
       "      <td>Wizz Air</td>\n",
       "      <td>None</td>\n",
       "      <td>WIZZAIR</td>\n",
       "      <td>None</td>\n",
       "      <td>None</td>\n",
       "    </tr>\n",
       "    <tr>\n",
       "      <th>202</th>\n",
       "      <td>Frontier Airlines</td>\n",
       "      <td>USA</td>\n",
       "      <td>None</td>\n",
       "      <td>F9</td>\n",
       "      <td>FFT</td>\n",
       "    </tr>\n",
       "  </tbody>\n",
       "</table>\n",
       "<p>203 rows × 5 columns</p>\n",
       "</div>"
      ],
      "text/plain": [
       "                  Airline Country     Call Sign  IATA  ICAO\n",
       "0         Alaska Airlines     USA          None    AS   ASA\n",
       "1       American Airlines     USA          None    AA   AAL\n",
       "2              Air Canada  Canada          None    AC   ACA\n",
       "3              Aeromexico  Mexico          None    AM   AMX\n",
       "4    Continental Airlines     USA          None    CO   COA\n",
       "..                    ...     ...           ...   ...   ...\n",
       "198     Viva Air Colombia    None  VIVACOLOMBIA  None  None\n",
       "199           VivaAerobús    None   AEROENLACES  None  None\n",
       "200               WestJet    None       WESTJET  None  None\n",
       "201              Wizz Air    None       WIZZAIR  None  None\n",
       "202     Frontier Airlines     USA          None    F9   FFT\n",
       "\n",
       "[203 rows x 5 columns]"
      ]
     },
     "execution_count": 11,
     "metadata": {},
     "output_type": "execute_result"
    }
   ],
   "source": [
    "pd.read_sql('airline_info', con=cnx)"
   ]
  },
  {
   "cell_type": "markdown",
   "metadata": {},
   "source": [
    "# OCR"
   ]
  },
  {
   "cell_type": "code",
   "execution_count": 18,
   "metadata": {},
   "outputs": [],
   "source": [
    "import pandas as pd\n",
    "import streamlit as st\n",
    "import re\n",
    "import datetime as dt\n",
    "\n",
    "def airline_abbrev_scrape():\n",
    "    # Read in airline abbreviations\n",
    "    cols = ['Airline', 'Country', 'IATA/ICAO Codes']\n",
    "    df = pd.DataFrame(columns = cols)\n",
    "    airlines = {}\n",
    "\n",
    "    i = 0\n",
    "    for x in pd.read_html('https://abbreviations.yourdictionary.com/articles/airline-abbreviations-for-major-carriers.html',header=0):\n",
    "        i += 1\n",
    "        try:\n",
    "            x.columns = cols # some columns had spaces in them\n",
    "        except:\n",
    "            pass\n",
    "        airlines[i] = x\n",
    "\n",
    "    for i in [1,2,3,4,5,6,7]:\n",
    "        df = df.append(airlines[i])\n",
    "\n",
    "    # Split code types\n",
    "    new = df['IATA/ICAO Codes'].str.split('/', expand = True)\n",
    "    new.columns = ['IATA', 'ICAO']\n",
    "    df = pd.concat([df, new], axis=1).drop('IATA/ICAO Codes',axis=1)\n",
    "\n",
    "    # Add Frontier Airlines, which was missing from tables\n",
    "    df = df.append({'Airline':'Frontier Airlines','Country':'USA','IATA':'F9','ICAO':'FFT'}, ignore_index=True)\n",
    "\n",
    "    # Remove spaces\n",
    "    df['IATA'] = df['IATA'].str.strip()\n",
    "    return df\n",
    "\n",
    "\n",
    "df = airline_abbrev_scrape()\n",
    "df.to_sql('airline_info',con=cnx,index=False,if_exists='replace')"
   ]
  },
  {
   "cell_type": "markdown",
   "metadata": {},
   "source": [
    "# TripIt Integration"
   ]
  },
  {
   "cell_type": "markdown",
   "metadata": {},
   "source": [
    "[Source](https://github.com/tripit/api/issues/240) for getting oauth key"
   ]
  },
  {
   "cell_type": "code",
   "execution_count": 49,
   "metadata": {},
   "outputs": [],
   "source": [
    "api_id = \"8fd219b1-32b8-42b6-976a-9f52b10dd1d8\"\n",
    "api_key = \"38edb5712ffea44d695450e6bbb045a5be0ee0b4\"\n",
    "api_secret = \"ebcfec1bde291713abff9258b63c3eba3b7a94de\"\n",
    "\n",
    "oauth_token = \"8e6c121df927492ba893b1d48d333bca\"\n",
    "oauth_token_secret=\"a0836bb8c12143609fb6d2e4253eeed3\""
   ]
  },
  {
   "cell_type": "code",
   "execution_count": null,
   "metadata": {},
   "outputs": [],
   "source": []
  },
  {
   "cell_type": "code",
   "execution_count": 46,
   "metadata": {},
   "outputs": [],
   "source": [
    "import requests as r\n",
    "from requests_oauthlib import OAuth1Session"
   ]
  },
  {
   "cell_type": "markdown",
   "metadata": {},
   "source": [
    "`curl -k -D /dev/tty --user <username>:<password> https://api.tripit.com/v1/get/note/id/586853`"
   ]
  },
  {
   "cell_type": "code",
   "execution_count": 48,
   "metadata": {},
   "outputs": [
    {
     "data": {
      "text/plain": [
       "<Response [401]>"
      ]
     },
     "execution_count": 48,
     "metadata": {},
     "output_type": "execute_result"
    }
   ],
   "source": [
    "OAuth1Session(client_key = api_key, client_secret = api_secret).get(url)"
   ]
  },
  {
   "cell_type": "code",
   "execution_count": null,
   "metadata": {},
   "outputs": [],
   "source": [
    "# request token\n",
    "\n",
    "url = 'https://api.tripit.com/oauth/request_token'\n",
    "params = {\n",
    "    'oauth_consumer_key':\n",
    "}\n",
    "r.post(url=url)"
   ]
  },
  {
   "cell_type": "code",
   "execution_count": 8,
   "metadata": {},
   "outputs": [],
   "source": [
    "obj_type = 'air'"
   ]
  },
  {
   "cell_type": "code",
   "execution_count": 17,
   "metadata": {},
   "outputs": [],
   "source": [
    "test = r.get(url = f\"https://www.tripit.com/oauth/authorize?oauth_token={oauth_token}&oauth_callback=https://www.tripit.com/trips\")"
   ]
  },
  {
   "cell_type": "code",
   "execution_count": 44,
   "metadata": {},
   "outputs": [],
   "source": [
    "headers_dict = {\n",
    "    'oauth_consumer_key':api_key,\n",
    "    'oauth_token':oauth_token,\n",
    "    'oauth_signature_method':\"HMAC-SHA1\",\n",
    "    'oauth_signature':\"request signature\",\n",
    "    'oauth_timestamp':\"1229622199\",\n",
    "    'oauth_nonce':\"9b308304f41a4ac04fb4c4ce980c5277\",\n",
    "    'oauth_version':\"1.0\"\n",
    "}"
   ]
  },
  {
   "cell_type": "code",
   "execution_count": 45,
   "metadata": {},
   "outputs": [
    {
     "data": {
      "text/plain": [
       "<Response [401]>"
      ]
     },
     "execution_count": 45,
     "metadata": {},
     "output_type": "execute_result"
    }
   ],
   "source": [
    "url = \"https://api.tripit.com/v1/list/object\"\n",
    "r.get(url=url,headers=headers_dict)"
   ]
  },
  {
   "cell_type": "code",
   "execution_count": 39,
   "metadata": {},
   "outputs": [],
   "source": [
    "from requests_oauthlib import OAuth1Session"
   ]
  },
  {
   "cell_type": "code",
   "execution_count": 43,
   "metadata": {},
   "outputs": [
    {
     "data": {
      "text/plain": [
       "<Response [401]>"
      ]
     },
     "execution_count": 43,
     "metadata": {},
     "output_type": "execute_result"
    }
   ],
   "source": [
    "OAuth1Session(api_key, api_secret).get(url)"
   ]
  },
  {
   "cell_type": "code",
   "execution_count": null,
   "metadata": {},
   "outputs": [],
   "source": []
  }
 ],
 "metadata": {
  "kernelspec": {
   "display_name": "Mess Env",
   "language": "python",
   "name": "mess_env"
  },
  "language_info": {
   "codemirror_mode": {
    "name": "ipython",
    "version": 3
   },
   "file_extension": ".py",
   "mimetype": "text/x-python",
   "name": "python",
   "nbconvert_exporter": "python",
   "pygments_lexer": "ipython3",
   "version": "3.8.8"
  }
 },
 "nbformat": 4,
 "nbformat_minor": 4
}
